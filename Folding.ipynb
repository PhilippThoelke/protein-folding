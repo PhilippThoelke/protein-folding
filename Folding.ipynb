{
 "cells": [
  {
   "cell_type": "code",
   "execution_count": 1,
   "metadata": {},
   "outputs": [
    {
     "data": {
      "application/vnd.jupyter.widget-view+json": {
       "model_id": "5ade66894fd2446987c9dde4160a3e66",
       "version_major": 2,
       "version_minor": 0
      },
      "text/plain": [
       "_ColormakerRegistry()"
      ]
     },
     "metadata": {},
     "output_type": "display_data"
    }
   ],
   "source": [
    "import nglview as nv\n",
    "import pytraj as pt\n",
    "import random\n",
    "\n",
    "from simtk.openmm.app import *\n",
    "from simtk.openmm import *\n",
    "from simtk.unit import *\n",
    "from sys import stdout\n",
    "\n",
    "import xml.etree.ElementTree as ElementTree"
   ]
  },
  {
   "cell_type": "code",
   "execution_count": 2,
   "metadata": {},
   "outputs": [
    {
     "data": {
      "text/plain": [
       "'PMKKLKLALRLAAKIAPVW'"
      ]
     },
     "execution_count": 2,
     "metadata": {},
     "output_type": "execute_result"
    }
   ],
   "source": [
    "def load_sequence(path):\n",
    "    with open(path) as f:\n",
    "        fasta = f.read().strip()\n",
    "    return fasta.split('\\n')[-1]\n",
    "    \n",
    "seq = load_sequence('proteins/6ct4.fasta')\n",
    "seq"
   ]
  },
  {
   "cell_type": "code",
   "execution_count": 3,
   "metadata": {},
   "outputs": [],
   "source": [
    "tree = ElementTree.parse('amber99sb.xml').getroot()\n",
    "atoms = {}\n",
    "for c in tree[1]:\n",
    "    atoms[c.attrib['name']] = [a.attrib['name'] for a in c.findall('Atom')]"
   ]
  },
  {
   "cell_type": "code",
   "execution_count": 4,
   "metadata": {},
   "outputs": [],
   "source": [
    "mappings = 'ala:A|arg:R|asn:N|asp:D|cys:C|gln:Q|glu:E|gly:G|his:H|ile:I|leu:L|lys:K|met:M|phe:F|pro:P|ser:S|thr:T|trp:W|tyr:Y|val:V'.upper().split('|')\n",
    "l2aa = dict([m.split(':')[::-1] for m in mappings])"
   ]
  },
  {
   "cell_type": "code",
   "execution_count": 5,
   "metadata": {},
   "outputs": [],
   "source": [
    "def write_randpos_pdb(path, aa_sequence):\n",
    "    data = ''\n",
    "    serial = 1\n",
    "    for residue_num, residue_letter in enumerate(aa_sequence):\n",
    "        residue = l2aa[residue_letter]\n",
    "        atom_names = atoms[residue].copy()\n",
    "        if residue_num == 0:\n",
    "            atom_names += ['H2', 'H3']\n",
    "        if residue_num == len(aa_sequence) - 1:\n",
    "            atom_names += ['OXT']\n",
    "        for name in atom_names:\n",
    "            rand = lambda s=0.1, off=0: (random.random() - 0.5) * 2 * s + off\n",
    "            if name == 'CA':\n",
    "                x, y, z = rand(s=0.01, off=residue_num), rand(s=0.01), rand(s=0.01)\n",
    "            else:\n",
    "                x, y, z = rand(off=residue_num), rand(), rand()\n",
    "            \n",
    "            if len(name) == 3:\n",
    "                name = ' ' + name\n",
    "            data += f'{\"ATOM\":6}{serial:5} {name:^4} {residue:3} {\"A\":1}{residue_num+1:4}    {x:8.3f}{y:8.3f}{z:8.3f}{1:6.2f}{0:6.2f}           {name.strip()[0]:2}{\"\":2}\\n'\n",
    "            serial += 1\n",
    "    with open(path, 'w') as file:\n",
    "        file.write(data)\n",
    "\n",
    "write_randpos_pdb('proteins/test.pdb', seq)"
   ]
  },
  {
   "cell_type": "code",
   "execution_count": 6,
   "metadata": {},
   "outputs": [
    {
     "name": "stdout",
     "output_type": "stream",
     "text": [
      "<Topology; 1 chains, 19 residues, 335 atoms, 338 bonds>\n"
     ]
    }
   ],
   "source": [
    "pdb = PDBFile('proteins/test.pdb')\n",
    "#forcefield = ForceField('amber14-all.xml', 'amber14/tip3pfb.xml')\n",
    "forcefield = ForceField('amber99sb.xml')\n",
    "print(pdb.topology)\n",
    "\n",
    "modeller = Modeller(pdb.topology, pdb.positions)\n",
    "modeller.addHydrogens()\n",
    "\n",
    "system = forcefield.createSystem(modeller.topology, constraints=HBonds)\n",
    "integrator = LangevinIntegrator(300*kelvin, 1/picosecond, 0.002*picoseconds)\n",
    "simulation = Simulation(modeller.topology, system, integrator)\n",
    "simulation.context.setPositions(modeller.positions)\n",
    "\n",
    "simulation.minimizeEnergy()\n",
    "\n",
    "steps = 100000\n",
    "simulation.reporters.append(PDBReporter('proteins/output.pdb', steps // 100))\n",
    "simulation.reporters.append(StateDataReporter(stdout, steps // 10, step=True, potentialEnergy=True, temperature=True))"
   ]
  },
  {
   "cell_type": "code",
   "execution_count": 38,
   "metadata": {
    "scrolled": true
   },
   "outputs": [
    {
     "name": "stdout",
     "output_type": "stream",
     "text": [
      "1501000,1502.035955765988,285.129008361142\n",
      "1502000,1529.6546436949693,303.02358330221585\n",
      "1503000,1504.1421321497528,285.4968200822799\n",
      "1504000,1476.161498031091,299.73407827992986\n",
      "1505000,1536.2268045794885,279.5454585883828\n",
      "1506000,1566.5233974807902,275.0395557783844\n",
      "1507000,1487.0825074289473,310.2756908912489\n",
      "1508000,1543.1708650164844,294.3094630264019\n",
      "1509000,1581.4481445132665,289.1442138785816\n",
      "1510000,1558.9574914347281,296.0269221042342\n",
      "1511000,1476.3168614721137,307.8128742321551\n",
      "1512000,1464.6329913201357,280.12553278161187\n",
      "1513000,1552.9813726592156,284.11316378563987\n",
      "1514000,1608.3421530175956,301.1939979115615\n",
      "1515000,1592.0844765241784,286.90432379974436\n",
      "1516000,1555.2661501637135,278.4455791922555\n",
      "1517000,1545.1199783232655,286.50244381129477\n",
      "1518000,1483.2081041650522,310.35068607033327\n",
      "1519000,1537.298137583895,322.1890227439045\n",
      "1520000,1504.5484429506205,322.0264532986738\n",
      "1521000,1541.7409272009704,298.2725242347366\n",
      "1522000,1523.3919969392084,291.8694150550031\n",
      "1523000,1451.0543217064119,278.4512858308115\n",
      "1524000,1516.8048973705422,309.30417023504697\n",
      "1525000,1541.8383441037772,312.2929895261981\n",
      "1526000,1504.9939118996485,299.1830627569802\n",
      "1527000,1587.1530696438826,293.6767218709767\n",
      "1528000,1460.3949771983318,294.47071529015074\n",
      "1529000,1482.9114606210123,290.3207866972013\n",
      "1530000,1524.974835050124,309.2169495320211\n",
      "1531000,1507.7972934382399,352.14939716927256\n",
      "1532000,1567.4346166150262,313.3924787943148\n",
      "1533000,1468.4321283582894,315.59349996751104\n",
      "1534000,1511.1549004662174,305.25755970930874\n",
      "1535000,1483.7542222677082,287.79250998444485\n",
      "1536000,1436.5081468470105,282.91240606804115\n",
      "1537000,1504.813427761755,320.0404553013664\n",
      "1538000,1533.0710083844635,321.46508854457545\n",
      "1539000,1613.8517145233454,284.1637066266819\n",
      "1540000,1557.230215466268,308.5040693193903\n",
      "1541000,1437.2266930019705,294.3257820856538\n",
      "1542000,1442.6671425149773,317.9339866983112\n",
      "1543000,1486.4418692620625,291.2553816070125\n",
      "1544000,1508.765958592197,281.16248748482036\n",
      "1545000,1536.8090502474874,323.8922943467379\n",
      "1546000,1515.4722934996503,285.17475961076127\n",
      "1547000,1581.875724256995,294.5606424196095\n",
      "1548000,1521.770665079078,311.56674580220704\n",
      "1549000,1469.0827221587283,309.3100943869946\n",
      "1550000,1587.824771552887,311.6255569794406\n",
      "1551000,1589.4885897117192,306.9928737364625\n",
      "1552000,1482.621881794686,291.0301972116789\n",
      "1553000,1532.1861543294895,312.1321975920208\n",
      "1554000,1497.9281356521933,279.9786627608747\n",
      "1555000,1436.9642713148987,303.1545572553537\n",
      "1556000,1434.5528835170094,275.44357788925635\n",
      "1557000,1521.3964937969242,293.6727839579422\n",
      "1558000,1478.013599930461,311.4328968863525\n",
      "1559000,1485.374524617243,262.8278921147607\n",
      "1560000,1497.3904984293172,290.25672537366626\n",
      "1561000,1521.938403526558,277.3136490831214\n",
      "1562000,1645.6893090080675,276.1146745427046\n",
      "1563000,1553.0266261581446,303.4793169458723\n",
      "1564000,1536.817673420786,318.74158389166354\n",
      "1565000,1560.5851486598185,306.15930887250096\n",
      "1566000,1465.6798586357827,295.50374465497424\n",
      "1567000,1629.230917718022,299.84788168343465\n",
      "1568000,1597.952980278067,294.0221360473355\n",
      "1569000,1465.4731569620599,309.0896028331536\n",
      "1570000,1536.8955505943377,297.40065535337925\n",
      "1571000,1506.5580351139963,281.4312257813609\n",
      "1572000,1462.3639370425196,296.78449356983975\n",
      "1573000,1443.5276350321956,291.99539095971465\n",
      "1574000,1390.256391316604,310.6942838092149\n",
      "1575000,1577.6657827967867,305.9383913243241\n",
      "1576000,1487.4590557694482,303.5440657589318\n",
      "1577000,1502.3163652322332,307.1423195725233\n",
      "1578000,1501.5778794598423,301.85498580766364\n",
      "1579000,1509.7726212589105,304.8493462277542\n",
      "1580000,1509.1759486824528,300.64637238285417\n",
      "1581000,1675.9731688738138,323.56859386052633\n",
      "1582000,1483.3819019624452,303.4022104492076\n",
      "1583000,1536.4033242365695,317.4052350586711\n",
      "1584000,1503.1559747849,317.8768094825341\n",
      "1585000,1546.7463887167555,291.6165715318625\n",
      "1586000,1471.982427564393,301.44440286710153\n",
      "1587000,1531.1230881259075,309.12639677276167\n",
      "1588000,1510.9129327507214,318.6999768197282\n",
      "1589000,1601.5664913894857,304.6636664182539\n",
      "1590000,1544.7126498773246,320.8510395837861\n",
      "1591000,1592.403312952039,301.271667216937\n",
      "1592000,1554.6578363332696,309.56713541646667\n",
      "1593000,1552.266123990435,316.87414881734287\n",
      "1594000,1541.736818889592,266.7710359996283\n",
      "1595000,1581.9348658519427,293.66741750174407\n",
      "1596000,1513.2577662900555,293.83479858899807\n",
      "1597000,1480.864561085105,305.95766158420247\n",
      "1598000,1472.2708714948476,308.8420742592622\n",
      "1599000,1626.0260882453147,335.6907824850679\n",
      "1600000,1496.8146224585867,321.9116308632016\n"
     ]
    }
   ],
   "source": [
    "simulation.step(steps)"
   ]
  },
  {
   "cell_type": "code",
   "execution_count": 39,
   "metadata": {
    "scrolled": false
   },
   "outputs": [
    {
     "data": {
      "application/vnd.jupyter.widget-view+json": {
       "model_id": "2c3eed9f2dc3477781c039e6fb65b6cf",
       "version_major": 2,
       "version_minor": 0
      },
      "text/plain": [
       "NGLWidget(max_frame=15999)"
      ]
     },
     "metadata": {},
     "output_type": "display_data"
    }
   ],
   "source": [
    "view = nv.show_pytraj(pt.load('proteins/output.pdb'))\n",
    "view"
   ]
  },
  {
   "cell_type": "code",
   "execution_count": 9,
   "metadata": {},
   "outputs": [],
   "source": [
    "view.close()"
   ]
  }
 ],
 "metadata": {
  "kernelspec": {
   "display_name": "Python 3",
   "language": "python",
   "name": "python3"
  },
  "language_info": {
   "codemirror_mode": {
    "name": "ipython",
    "version": 3
   },
   "file_extension": ".py",
   "mimetype": "text/x-python",
   "name": "python",
   "nbconvert_exporter": "python",
   "pygments_lexer": "ipython3",
   "version": "3.7.6"
  }
 },
 "nbformat": 4,
 "nbformat_minor": 4
}
